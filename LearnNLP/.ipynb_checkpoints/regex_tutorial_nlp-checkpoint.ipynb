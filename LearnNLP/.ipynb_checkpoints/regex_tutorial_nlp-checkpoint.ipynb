{
 "cells": [
  {
   "cell_type": "code",
   "execution_count": 1,
   "id": "4dabdbae-5d12-4cd3-8e37-c5bb395a50ec",
   "metadata": {},
   "outputs": [],
   "source": [
    "import re"
   ]
  },
  {
   "cell_type": "code",
   "execution_count": 2,
   "id": "ea3c9c89-c012-44d8-996f-13e8d83db7d5",
   "metadata": {},
   "outputs": [],
   "source": [
    "chat1 = 'codebasics: you ask a lot of questions 123456789012, abxx@xyz.com'\n",
    "chat2 = 'codebasics: here it is: (62+)3456789012, abxx@xyz.com'\n",
    "chat3 = 'codebasics: yes, phone : 123456789012, email : abxx@xyz.com'"
   ]
  },
  {
   "cell_type": "code",
   "execution_count": 5,
   "id": "7658d10a-cd35-482b-af28-f584e5afde54",
   "metadata": {},
   "outputs": [
    {
     "data": {
      "text/plain": [
       "['123456789012']"
      ]
     },
     "execution_count": 5,
     "metadata": {},
     "output_type": "execute_result"
    }
   ],
   "source": [
    "pattern = '\\d{12}'\n",
    "\n",
    "matches = re.findall(pattern, chat1)\n",
    "matches"
   ]
  },
  {
   "cell_type": "code",
   "execution_count": null,
   "id": "4d30f84e-feca-438d-a2c4-a53204fe57aa",
   "metadata": {},
   "outputs": [],
   "source": []
  }
 ],
 "metadata": {
  "kernelspec": {
   "display_name": "Python 3 (ipykernel)",
   "language": "python",
   "name": "python3"
  },
  "language_info": {
   "codemirror_mode": {
    "name": "ipython",
    "version": 3
   },
   "file_extension": ".py",
   "mimetype": "text/x-python",
   "name": "python",
   "nbconvert_exporter": "python",
   "pygments_lexer": "ipython3",
   "version": "3.11.7"
  }
 },
 "nbformat": 4,
 "nbformat_minor": 5
}
