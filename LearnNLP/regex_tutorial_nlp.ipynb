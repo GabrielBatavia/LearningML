{
 "cells": [
  {
   "cell_type": "code",
   "execution_count": 2,
   "id": "4dabdbae-5d12-4cd3-8e37-c5bb395a50ec",
   "metadata": {},
   "outputs": [],
   "source": [
    "import re"
   ]
  },
  {
   "cell_type": "code",
   "execution_count": 21,
   "id": "ea3c9c89-c012-44d8-996f-13e8d83db7d5",
   "metadata": {},
   "outputs": [],
   "source": [
    "chat1 = 'codebasics: you ask a lot of questions 123456789012, abc@xyz.com'\n",
    "chat2 = 'codebasics: here it is: (62+)3456789012, gabriel_batavia7@xyz.com'\n",
    "chat3 = 'codebasics: yes, phone : 123456789012, email : abxx@xyz.com'"
   ]
  },
  {
   "cell_type": "code",
   "execution_count": 23,
   "id": "7658d10a-cd35-482b-af28-f584e5afde54",
   "metadata": {},
   "outputs": [
    {
     "name": "stdout",
     "output_type": "stream",
     "text": [
      "From chat1 : ['123456789012']\n",
      "From chat2 : ['(62+)3456789012']\n",
      "From chat1 : ['abc@']\n",
      "From chat2 : ['gabriel_batavia7@']\n"
     ]
    }
   ],
   "source": [
    "pattern = '\\d{12}'\n",
    "pattern2 = '\\(\\d\\d\\+\\)\\d{10}'\n",
    "patternEmail = '[a-zA-Z0-9_]*@'\n",
    "patternEmailFull = '[a-zA-Z0-9_]*@[a-z]*\\.[a-z]'\n",
    "\n",
    "matches = re.findall(pattern, chat1)\n",
    "print('From chat1 : '+ str(matches))\n",
    "\n",
    "matches2 = re.findall(pattern2, chat2)\n",
    "print('From chat2 : ' + str(matches2))\n",
    "\n",
    "matchesEmail = re.findall(patternEmail, chat1)\n",
    "print('From chat1 : ' + str(matchesEmail))\n",
    "\n",
    "matchesEmail2 = re.findall(patternEmail, chat2)\n",
    "print('From chat2 : ' + str(matchesEmail2))\n"
   ]
  },
  {
   "cell_type": "code",
   "execution_count": null,
   "id": "4d30f84e-feca-438d-a2c4-a53204fe57aa",
   "metadata": {},
   "outputs": [],
   "source": []
  }
 ],
 "metadata": {
  "kernelspec": {
   "display_name": "Python 3 (ipykernel)",
   "language": "python",
   "name": "python3"
  },
  "language_info": {
   "codemirror_mode": {
    "name": "ipython",
    "version": 3
   },
   "file_extension": ".py",
   "mimetype": "text/x-python",
   "name": "python",
   "nbconvert_exporter": "python",
   "pygments_lexer": "ipython3",
   "version": "3.11.7"
  }
 },
 "nbformat": 4,
 "nbformat_minor": 5
}
